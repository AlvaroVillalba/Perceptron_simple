{
 "cells": [
  {
   "cell_type": "markdown",
   "metadata": {},
   "source": [
    "# 1. Perceptrón\n",
    "El **perceptrón** es una unidad básica de inferencia en forma de discriminador lineal, a partir de lo cual se desarrolla un algoritmo capaz de generar un criterio para seleccionar un sub-grupo a partir de un grupo de componentes más grande.\n",
    "\n",
    "La limitación de este algoritmo es que si dibujamos en un plot estos elementos, se deben poder separar con un hiperplano únicamente los elementos \"deseados\" discriminándolos (separándolos) de los \"no deseados\".\n",
    "\n",
    "En el presente notebook vamos a contruir un perceptrón que nos permita discriminar algunas condiciones de interés, sobre los datos artificiales queque fueron recolectados en clase."
   ]
  },
  {
   "cell_type": "code",
   "execution_count": 1,
   "metadata": {},
   "outputs": [
    {
     "data": {
      "text/html": [
       "<table>\n",
       "<thead><tr><th scope=col>Edad</th><th scope=col>Estatura</th><th scope=col>Peso</th><th scope=col>Sexo</th><th scope=col>Mascotas</th><th scope=col>Digitos.Cedula</th></tr></thead>\n",
       "<tbody>\n",
       "\t<tr><td>33       </td><td>178      </td><td>90       </td><td>Masculino</td><td>2        </td><td>96       </td></tr>\n",
       "\t<tr><td>26       </td><td>160      </td><td>67       </td><td>Femenino </td><td>2        </td><td>91       </td></tr>\n",
       "\t<tr><td>34       </td><td>186      </td><td>94       </td><td>Masculino</td><td>2        </td><td>59       </td></tr>\n",
       "\t<tr><td>26       </td><td>186      </td><td>83       </td><td>Masculino</td><td>1        </td><td>43       </td></tr>\n",
       "\t<tr><td>25       </td><td>176      </td><td>65       </td><td>Masculino</td><td>3        </td><td>97       </td></tr>\n",
       "\t<tr><td>30       </td><td>175      </td><td>82       </td><td>Masculino</td><td>0        </td><td>60       </td></tr>\n",
       "</tbody>\n",
       "</table>\n"
      ],
      "text/latex": [
       "\\begin{tabular}{r|llllll}\n",
       " Edad & Estatura & Peso & Sexo & Mascotas & Digitos.Cedula\\\\\n",
       "\\hline\n",
       "\t 33        & 178       & 90        & Masculino & 2         & 96       \\\\\n",
       "\t 26        & 160       & 67        & Femenino  & 2         & 91       \\\\\n",
       "\t 34        & 186       & 94        & Masculino & 2         & 59       \\\\\n",
       "\t 26        & 186       & 83        & Masculino & 1         & 43       \\\\\n",
       "\t 25        & 176       & 65        & Masculino & 3         & 97       \\\\\n",
       "\t 30        & 175       & 82        & Masculino & 0         & 60       \\\\\n",
       "\\end{tabular}\n"
      ],
      "text/markdown": [
       "\n",
       "Edad | Estatura | Peso | Sexo | Mascotas | Digitos.Cedula | \n",
       "|---|---|---|---|---|---|\n",
       "| 33        | 178       | 90        | Masculino | 2         | 96        | \n",
       "| 26        | 160       | 67        | Femenino  | 2         | 91        | \n",
       "| 34        | 186       | 94        | Masculino | 2         | 59        | \n",
       "| 26        | 186       | 83        | Masculino | 1         | 43        | \n",
       "| 25        | 176       | 65        | Masculino | 3         | 97        | \n",
       "| 30        | 175       | 82        | Masculino | 0         | 60        | \n",
       "\n",
       "\n"
      ],
      "text/plain": [
       "  Edad Estatura Peso Sexo      Mascotas Digitos.Cedula\n",
       "1 33   178      90   Masculino 2        96            \n",
       "2 26   160      67   Femenino  2        91            \n",
       "3 34   186      94   Masculino 2        59            \n",
       "4 26   186      83   Masculino 1        43            \n",
       "5 25   176      65   Masculino 3        97            \n",
       "6 30   175      82   Masculino 0        60            "
      ]
     },
     "metadata": {},
     "output_type": "display_data"
    }
   ],
   "source": [
    "## Lectura de los datos de clase\n",
    "X <- readRDS(\"X.rds\")\n",
    "head(X)"
   ]
  },
  {
   "cell_type": "markdown",
   "metadata": {},
   "source": [
    "La primera línea a continuación realiza una ´normalización´ para las variables peso y sexo, lo cual resulta necesario para.... Codificamos además la variable sexo como 1 si es masculino y o si es femenino. Por último añadimos una columna de unos."
   ]
  },
  {
   "cell_type": "code",
   "execution_count": 2,
   "metadata": {},
   "outputs": [
    {
     "data": {
      "text/html": [
       "<table>\n",
       "<thead><tr><th scope=col>Edad</th><th scope=col>Estatura</th><th scope=col>Peso</th><th scope=col>Sexo</th><th scope=col>Mascotas</th><th scope=col>Digitos.Cedula</th><th scope=col>G</th><th scope=col>g</th><th scope=col>Uno</th></tr></thead>\n",
       "<tbody>\n",
       "\t<tr><td>33       </td><td>1.78     </td><td>0.90     </td><td>Masculino</td><td>2        </td><td>96       </td><td>M        </td><td>1        </td><td>1        </td></tr>\n",
       "\t<tr><td>26       </td><td>1.60     </td><td>0.67     </td><td>Femenino </td><td>2        </td><td>91       </td><td>F        </td><td>0        </td><td>1        </td></tr>\n",
       "\t<tr><td>34       </td><td>1.86     </td><td>0.94     </td><td>Masculino</td><td>2        </td><td>59       </td><td>M        </td><td>1        </td><td>1        </td></tr>\n",
       "\t<tr><td>26       </td><td>1.86     </td><td>0.83     </td><td>Masculino</td><td>1        </td><td>43       </td><td>M        </td><td>1        </td><td>1        </td></tr>\n",
       "\t<tr><td>25       </td><td>1.76     </td><td>0.65     </td><td>Masculino</td><td>3        </td><td>97       </td><td>M        </td><td>1        </td><td>1        </td></tr>\n",
       "\t<tr><td>30       </td><td>1.75     </td><td>0.82     </td><td>Masculino</td><td>0        </td><td>60       </td><td>M        </td><td>1        </td><td>1        </td></tr>\n",
       "</tbody>\n",
       "</table>\n"
      ],
      "text/latex": [
       "\\begin{tabular}{r|lllllllll}\n",
       " Edad & Estatura & Peso & Sexo & Mascotas & Digitos.Cedula & G & g & Uno\\\\\n",
       "\\hline\n",
       "\t 33        & 1.78      & 0.90      & Masculino & 2         & 96        & M         & 1         & 1        \\\\\n",
       "\t 26        & 1.60      & 0.67      & Femenino  & 2         & 91        & F         & 0         & 1        \\\\\n",
       "\t 34        & 1.86      & 0.94      & Masculino & 2         & 59        & M         & 1         & 1        \\\\\n",
       "\t 26        & 1.86      & 0.83      & Masculino & 1         & 43        & M         & 1         & 1        \\\\\n",
       "\t 25        & 1.76      & 0.65      & Masculino & 3         & 97        & M         & 1         & 1        \\\\\n",
       "\t 30        & 1.75      & 0.82      & Masculino & 0         & 60        & M         & 1         & 1        \\\\\n",
       "\\end{tabular}\n"
      ],
      "text/markdown": [
       "\n",
       "Edad | Estatura | Peso | Sexo | Mascotas | Digitos.Cedula | G | g | Uno | \n",
       "|---|---|---|---|---|---|\n",
       "| 33        | 1.78      | 0.90      | Masculino | 2         | 96        | M         | 1         | 1         | \n",
       "| 26        | 1.60      | 0.67      | Femenino  | 2         | 91        | F         | 0         | 1         | \n",
       "| 34        | 1.86      | 0.94      | Masculino | 2         | 59        | M         | 1         | 1         | \n",
       "| 26        | 1.86      | 0.83      | Masculino | 1         | 43        | M         | 1         | 1         | \n",
       "| 25        | 1.76      | 0.65      | Masculino | 3         | 97        | M         | 1         | 1         | \n",
       "| 30        | 1.75      | 0.82      | Masculino | 0         | 60        | M         | 1         | 1         | \n",
       "\n",
       "\n"
      ],
      "text/plain": [
       "  Edad Estatura Peso Sexo      Mascotas Digitos.Cedula G g Uno\n",
       "1 33   1.78     0.90 Masculino 2        96             M 1 1  \n",
       "2 26   1.60     0.67 Femenino  2        91             F 0 1  \n",
       "3 34   1.86     0.94 Masculino 2        59             M 1 1  \n",
       "4 26   1.86     0.83 Masculino 1        43             M 1 1  \n",
       "5 25   1.76     0.65 Masculino 3        97             M 1 1  \n",
       "6 30   1.75     0.82 Masculino 0        60             M 1 1  "
      ]
     },
     "metadata": {},
     "output_type": "display_data"
    }
   ],
   "source": [
    "X[,c(2:3)] <- X[,c(2,3)]/100\n",
    "X$G <- substr(X$Sexo, 1, 1)\n",
    "X$g <- as.numeric(X$G==\"M\")\n",
    "X$Uno <- 1\n",
    "head(X)"
   ]
  },
  {
   "cell_type": "markdown",
   "metadata": {},
   "source": [
    "El perceptrón usa una matriz para representar las redes neuronales y es un discriminador que traza su entrada x (un vector binario) a un único valor de salida $f(x)$ (un solo valor binario) a través de dicha matriz.\n",
    "\n"
   ]
  },
  {
   "cell_type": "markdown",
   "metadata": {},
   "source": [
    "\\begin{equation*}\n",
    "f(x) = \\begin{cases}1 & \\text{si }w \\cdot x > 0\\\\0 & \\text{en otro caso}\\end{cases}\n",
    "\\end{equation*}\n",
    "\n"
   ]
  },
  {
   "cell_type": "markdown",
   "metadata": {},
   "source": [
    "Donde $w$ es un vector de pesos reales y $w\\cdot x$ es el producto escalar (que computa una suma ponderada). El valor de $f(x)$ (0 o 1) se usa para clasificar $x$ como un caso positivo o un caso negativo, en el caso de un problema de clasificación binario. La suma ponderada de las entradas debe producir un valor mayor que 0 para cambiar la neurona de estado 0 a 1.\n",
    "\n",
    "A continuación se define la función $f$ que evaluará las sumas de dicho producto escalar:"
   ]
  },
  {
   "cell_type": "code",
   "execution_count": 6,
   "metadata": {},
   "outputs": [],
   "source": [
    "f <- function(x){\n",
    "  if(x>0) return(1)\n",
    "  return(0)\n",
    "}"
   ]
  },
  {
   "cell_type": "markdown",
   "metadata": {},
   "source": [
    "La gráfica a continuación identifica el sexo de cada persona a partir de su estatura y el peso.  Nótese que a priori es posible separar los dos grupos con una línea recta."
   ]
  },
  {
   "cell_type": "code",
   "execution_count": 10,
   "metadata": {},
   "outputs": [
    {
     "data": {
      "image/png": "[encoded data removed]",
      "text/plain": [
       "plot without title"
      ]
     },
     "metadata": {},
     "output_type": "display_data"
    }
   ],
   "source": [
    "library(repr); options(repr.plot.width=5, repr.plot.height=5)\n",
    "plot(X$Estatura, X$Peso, type = \"n\", xlab=\"Estatura\", ylab=\"Peso\",asp=1)\n",
    "cols <- rep(\"blue\",nrow(X))\n",
    "cols[which(X$G==\"M\")] <- \"black\"\n",
    "text(X$Estatura, X$Peso, X$G, col=cols)"
   ]
  },
  {
   "cell_type": "markdown",
   "metadata": {},
   "source": [
    "La intención ahora es separar mediante una línea (plano en 2D), las dos categorías. Para ello definimos el algoritmo de aprendizaje, el cual inicia con unos pesos iniciales definidos como el vecto de ceros, y a partir de los cuales evalúa la función $f$. Los pesos van siendo corregidos usando la regla de aprendizaje del **perceptrón simple**.  \n",
    "\n",
    "Se realizan 10000 iteraciones del algoritmo, donde la última iteración representada por la línea negra, separa de manera óptima las dos clases."
   ]
  },
  {
   "cell_type": "code",
   "execution_count": null,
   "metadata": {},
   "outputs": [],
   "source": [
    "## Gráfico inicial\n",
    "plot(X$Estatura, X$Peso, type = \"n\", xlab=\"Estatura\", ylab=\"Peso\",asp=1)\n",
    "cols <- rep(\"blue\",nrow(X))\n",
    "cols[which(X$G==\"M\")] <- \"black\"\n",
    "text(X$Estatura, X$Peso, X$G, col=cols)\n",
    "\n",
    "## Pesos sinápticos de entrada\n",
    "w <- c(0,0,0) #Estatura, Peso, Ind\n",
    "\n",
    "done <- FALSE\n",
    "iter <- 0\n",
    "max.iter <- 10000\n",
    "while(!done){\n",
    "  ind <- sample(1:nrow(X), size=1)\n",
    "  h <- f(sum(w * X[ind,c(2,3,9)]))\n",
    "  # regla de aprendizaje del Perceptrón simple\n",
    "  w <- w + 1 * (X$g[ind] - h) * unlist(X[ind, c(2,3,9)])\n",
    "  \n",
    "  a <- -w[3]/w[2] #intercepto\n",
    "  b <- -w[1]/w[2] #pendiente pasando por el origen\n",
    "  if(iter%%100==0){\n",
    "    abline(a, b, col=\"grey\")\n",
    "    #Sys.sleep(0.1)\n",
    "    #print(iter)\n",
    "  }\n",
    "  \n",
    "  iter <- iter + 1\n",
    "  ###\n",
    "  ### Aparte de esta, qué otra(s) condición de parada se podría usar?\n",
    "  if(iter >= max.iter) done <- TRUE\n",
    "  ###\n",
    "}\n",
    "\n",
    "abline(a,b,col=\"black\",lwd=2)"
   ]
  },
  {
   "cell_type": "code",
   "execution_count": null,
   "metadata": {},
   "outputs": [],
   "source": []
  }
 ],
 "metadata": {
  "kernelspec": {
   "display_name": "R",
   "language": "R",
   "name": "ir"
  },
  "language_info": {
   "codemirror_mode": "r",
   "file_extension": ".r",
   "mimetype": "text/x-r-source",
   "name": "R",
   "pygments_lexer": "r",
   "version": "3.4.3"
  }
 },
 "nbformat": 4,
 "nbformat_minor": 2
}
